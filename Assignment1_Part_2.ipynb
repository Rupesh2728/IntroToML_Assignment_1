{
  "nbformat": 4,
  "nbformat_minor": 0,
  "metadata": {
    "colab": {
      "provenance": []
    },
    "kernelspec": {
      "name": "python3",
      "display_name": "Python 3"
    },
    "language_info": {
      "name": "python"
    }
  },
  "cells": [
    {
      "cell_type": "code",
      "source": [
        "!pwd\n",
        "!ls\n"
      ],
      "metadata": {
        "colab": {
          "base_uri": "https://localhost:8080/"
        },
        "id": "AV12UwhPr6vf",
        "outputId": "38f745e1-8b8e-48c0-99dd-0a571cac0f64"
      },
      "execution_count": 61,
      "outputs": [
        {
          "output_type": "stream",
          "name": "stdout",
          "text": [
            "/content\n",
            "penguins.csv  sample_data\n"
          ]
        }
      ]
    },
    {
      "cell_type": "code",
      "execution_count": 62,
      "metadata": {
        "id": "as0T91XppZbC"
      },
      "outputs": [],
      "source": [
        "import pandas as pd\n",
        "import numpy as np\n",
        "import matplotlib.pyplot as plt"
      ]
    },
    {
      "cell_type": "code",
      "source": [
        "df = pd.read_csv('/content/penguins.csv')\n",
        "df.info()"
      ],
      "metadata": {
        "colab": {
          "base_uri": "https://localhost:8080/"
        },
        "id": "fL4SEMMor9gx",
        "outputId": "89fbbe31-a952-4753-b1f9-ef7853dfd582"
      },
      "execution_count": 63,
      "outputs": [
        {
          "output_type": "stream",
          "name": "stdout",
          "text": [
            "<class 'pandas.core.frame.DataFrame'>\n",
            "RangeIndex: 344 entries, 0 to 343\n",
            "Data columns (total 10 columns):\n",
            " #   Column                  Non-Null Count  Dtype  \n",
            "---  ------                  --------------  -----  \n",
            " 0   species                 333 non-null    object \n",
            " 1   island                  334 non-null    object \n",
            " 2   calorie requirement     344 non-null    int64  \n",
            " 3   average sleep duration  344 non-null    int64  \n",
            " 4   bill_length_mm          337 non-null    float64\n",
            " 5   bill_depth_mm           333 non-null    float64\n",
            " 6   flipper_length_mm       336 non-null    float64\n",
            " 7   body_mass_g             339 non-null    float64\n",
            " 8   gender                  327 non-null    object \n",
            " 9   year                    342 non-null    float64\n",
            "dtypes: float64(5), int64(2), object(3)\n",
            "memory usage: 27.0+ KB\n"
          ]
        }
      ]
    },
    {
      "cell_type": "code",
      "source": [
        "Y = df['gender'].str.strip().str.lower()"
      ],
      "metadata": {
        "id": "k2dPVlmX1LKV"
      },
      "execution_count": 64,
      "outputs": []
    },
    {
      "cell_type": "code",
      "source": [
        "class_counts = df['gender'].value_counts()\n",
        "print(class_counts)\n"
      ],
      "metadata": {
        "colab": {
          "base_uri": "https://localhost:8080/"
        },
        "id": "YfarSiObtYfI",
        "outputId": "f788f8ac-2b5f-4dfa-ef0a-b3ffc945aa7a"
      },
      "execution_count": 65,
      "outputs": [
        {
          "output_type": "stream",
          "name": "stdout",
          "text": [
            "gender\n",
            "male      164\n",
            "female    160\n",
            "FEMALE      2\n",
            "MALE        1\n",
            "Name: count, dtype: int64\n"
          ]
        }
      ]
    },
    {
      "cell_type": "code",
      "source": [
        "df = df.dropna()\n",
        "df.shape"
      ],
      "metadata": {
        "colab": {
          "base_uri": "https://localhost:8080/"
        },
        "id": "suuACPSCwpab",
        "outputId": "9cb25daa-2e1f-453b-a2b8-076cdd0c6c22"
      },
      "execution_count": 66,
      "outputs": [
        {
          "output_type": "execute_result",
          "data": {
            "text/plain": [
              "(305, 10)"
            ]
          },
          "metadata": {},
          "execution_count": 66
        }
      ]
    },
    {
      "cell_type": "code",
      "source": [
        "df = df[df['gender'].isin(['male', 'female'])]\n",
        "Y = df['gender'].apply(lambda x: 1 if x == 'male' else 0).values.reshape(-1, 1)"
      ],
      "metadata": {
        "id": "qwUL00cMxLwv"
      },
      "execution_count": 67,
      "outputs": []
    },
    {
      "cell_type": "code",
      "source": [
        "df['species'] = df['species'].str.strip().str.lower()\n",
        "df['island'] = df['island'].str.strip().str.lower()\n",
        "\n",
        "species_dummies = pd.get_dummies(df['species'], prefix='species')\n",
        "island_dummies = pd.get_dummies(df['island'], prefix='island')\n",
        "\n",
        "numeric_features = df[['bill_length_mm', 'bill_depth_mm', 'flipper_length_mm', 'body_mass_g']]\n",
        "\n",
        "X = pd.concat([species_dummies, island_dummies, numeric_features], axis=1).values\n"
      ],
      "metadata": {
        "id": "GfzvLeADxVsX"
      },
      "execution_count": 68,
      "outputs": []
    },
    {
      "cell_type": "code",
      "source": [
        "print(\"Shape of X:\", X.shape)\n",
        "print(\"Shape of Y:\", Y.shape)"
      ],
      "metadata": {
        "colab": {
          "base_uri": "https://localhost:8080/"
        },
        "id": "3Q6wpfiXxsjO",
        "outputId": "f882bb41-9cdd-4ea4-a1af-a46c2fdf2512"
      },
      "execution_count": 69,
      "outputs": [
        {
          "output_type": "stream",
          "name": "stdout",
          "text": [
            "Shape of X: (305, 10)\n",
            "Shape of Y: (305, 1)\n"
          ]
        }
      ]
    },
    {
      "cell_type": "code",
      "source": [
        "N = X.shape[0]\n",
        "\n",
        "indices = np.random.permutation(N)\n",
        "\n",
        "X_shuffled = X[indices]\n",
        "Y_shuffled = Y[indices]\n"
      ],
      "metadata": {
        "id": "xT7Iav900ipy"
      },
      "execution_count": 70,
      "outputs": []
    },
    {
      "cell_type": "code",
      "source": [
        "split_index = int(0.8 * N)\n",
        "\n",
        "X_train = X_shuffled[:split_index]\n",
        "y_train = Y_shuffled[:split_index]\n",
        "\n",
        "X_test = X_shuffled[split_index:]\n",
        "y_test = Y_shuffled[split_index:]\n"
      ],
      "metadata": {
        "id": "hojtr_U22Xc3"
      },
      "execution_count": 71,
      "outputs": []
    },
    {
      "cell_type": "code",
      "source": [
        "print(\"X_train shape:\", X_train.shape)\n",
        "print(\"y_train shape:\", y_train.shape)\n",
        "print(\"X_test shape:\", X_test.shape)\n",
        "print(\"y_test shape:\", y_test.shape)\n"
      ],
      "metadata": {
        "colab": {
          "base_uri": "https://localhost:8080/"
        },
        "id": "FZaEefwK2cNx",
        "outputId": "04dc29cc-3e1a-431d-aade-85c52062d865"
      },
      "execution_count": 72,
      "outputs": [
        {
          "output_type": "stream",
          "name": "stdout",
          "text": [
            "X_train shape: (244, 10)\n",
            "y_train shape: (244, 1)\n",
            "X_test shape: (61, 10)\n",
            "y_test shape: (61, 1)\n"
          ]
        }
      ]
    }
  ]
}