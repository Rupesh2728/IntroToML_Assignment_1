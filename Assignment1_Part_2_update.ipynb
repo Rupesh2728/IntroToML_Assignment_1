{
  "nbformat": 4,
  "nbformat_minor": 0,
  "metadata": {
    "colab": {
      "provenance": []
    },
    "kernelspec": {
      "name": "python3",
      "display_name": "Python 3"
    },
    "language_info": {
      "name": "python"
    }
  },
  "cells": [
    {
      "cell_type": "code",
      "source": [
        "!pwd\n",
        "!ls\n"
      ],
      "metadata": {
        "colab": {
          "base_uri": "https://localhost:8080/"
        },
        "id": "AV12UwhPr6vf",
        "outputId": "2e991e62-99fd-435c-aea9-00e83a93ffbb"
      },
      "execution_count": 225,
      "outputs": [
        {
          "output_type": "stream",
          "name": "stdout",
          "text": [
            "/content\n",
            "penguins_preprocessed.csv  sample_data\n"
          ]
        }
      ]
    },
    {
      "cell_type": "code",
      "execution_count": 226,
      "metadata": {
        "id": "as0T91XppZbC"
      },
      "outputs": [],
      "source": [
        "# 1\n",
        "import pandas as pd\n",
        "import numpy as np\n",
        "import matplotlib.pyplot as plt\n",
        "from math import ceil"
      ]
    },
    {
      "cell_type": "code",
      "source": [
        "df = pd.read_csv('/content/penguins_preprocessed.csv')\n",
        "df.info()"
      ],
      "metadata": {
        "colab": {
          "base_uri": "https://localhost:8080/"
        },
        "id": "fL4SEMMor9gx",
        "outputId": "1f6b0b72-3d7b-4216-c23d-c3c2b2a5de2d"
      },
      "execution_count": 227,
      "outputs": [
        {
          "output_type": "stream",
          "name": "stdout",
          "text": [
            "<class 'pandas.core.frame.DataFrame'>\n",
            "RangeIndex: 344 entries, 0 to 343\n",
            "Data columns (total 15 columns):\n",
            " #   Column                  Non-Null Count  Dtype  \n",
            "---  ------                  --------------  -----  \n",
            " 0   calorie requirement     344 non-null    float64\n",
            " 1   average sleep duration  344 non-null    float64\n",
            " 2   bill_length_mm          344 non-null    float64\n",
            " 3   bill_depth_mm           344 non-null    float64\n",
            " 4   flipper_length_mm       344 non-null    float64\n",
            " 5   body_mass_g             344 non-null    float64\n",
            " 6   year                    344 non-null    float64\n",
            " 7   species_chinstrap       344 non-null    bool   \n",
            " 8   species_gentoo          344 non-null    bool   \n",
            " 9   species_nan             344 non-null    bool   \n",
            " 10  island_dream            344 non-null    bool   \n",
            " 11  island_nan              344 non-null    bool   \n",
            " 12  island_torgersen        344 non-null    bool   \n",
            " 13  gender_male             344 non-null    bool   \n",
            " 14  gender_nan              344 non-null    bool   \n",
            "dtypes: bool(8), float64(7)\n",
            "memory usage: 21.6 KB\n"
          ]
        }
      ]
    },
    {
      "cell_type": "code",
      "source": [
        "# 2\n",
        "target = ~(df['gender_nan']) # Here we are targeting an array of boolen values.\n",
        "X = np.array(df.loc[target].drop(['gender_male', 'gender_nan'], axis=1).values, dtype=np.float64)\n",
        "Y = np.array(df.loc[target, 'gender_male'].astype(int).values, dtype=np.float64).reshape(-1, 1)\n",
        "# For 'X' rows with valid gender are considered. For 'Y' 'gender_male' row is selected (non missing rows)\n"
      ],
      "metadata": {
        "id": "YfarSiObtYfI"
      },
      "execution_count": 228,
      "outputs": []
    },
    {
      "cell_type": "code",
      "source": [
        "# 3\n",
        "unique, counts = np.unique(Y, return_counts=True)\n",
        "class_counts = dict(zip(unique, counts))\n",
        "print('Class counts:', class_counts)\n",
        "# It returns 2 arrays i.e unique and count"
      ],
      "metadata": {
        "colab": {
          "base_uri": "https://localhost:8080/"
        },
        "id": "8GMxbgFWrnAB",
        "outputId": "899020b3-6a37-49e0-f30b-c26c583257bd"
      },
      "execution_count": 229,
      "outputs": [
        {
          "output_type": "stream",
          "name": "stdout",
          "text": [
            "Class counts: {np.float64(0.0): np.int64(162), np.float64(1.0): np.int64(165)}\n"
          ]
        }
      ]
    },
    {
      "cell_type": "code",
      "source": [
        "N = X.shape[0]\n",
        "np.random.seed(42)\n",
        "indices = np.random.permutation(N)\n",
        "train_size = ceil(N * 0.8)\n",
        "train_idx = indices[:train_size]\n",
        "test_idx = indices[train_size:]\n",
        "# the total no of rows are counted and random seeding is doone. 80% of the data for training.\n",
        "\n",
        "X_train = X[train_idx]\n",
        "y_train = Y[train_idx]\n",
        "X_test = X[test_idx]\n",
        "y_test = Y[test_idx]\n",
        "\n",
        "print('X_train shape:', X_train.shape)\n",
        "print('y_train shape:', y_train.shape)\n",
        "print('X_test shape:', X_test.shape)\n",
        "print('y_test shape:', y_test.shape)\n",
        "# Split train/test in the ratio of 4:1"
      ],
      "metadata": {
        "colab": {
          "base_uri": "https://localhost:8080/"
        },
        "id": "G771Znuhr5Mx",
        "outputId": "e186e6cb-5679-418c-cee1-b20bc8a0f1b1"
      },
      "execution_count": 230,
      "outputs": [
        {
          "output_type": "stream",
          "name": "stdout",
          "text": [
            "X_train shape: (262, 13)\n",
            "y_train shape: (262, 1)\n",
            "X_test shape: (65, 13)\n",
            "y_test shape: (65, 1)\n"
          ]
        }
      ]
    },
    {
      "cell_type": "code",
      "source": [
        "# def sigmoid(z):\n",
        "#     return 1 / (1 + np.exp(-z))\n",
        "\n",
        "# def logistic_loss(y, y_pred):\n",
        "#     eps = 1e-8\n",
        "#     return -np.mean(y * np.log(y_pred + eps) + (1 - y) * np.log(1 - y_pred + eps))\n",
        "\n",
        "class LogitRegression:\n",
        "    def __init__(self, learning_rate=1e-3, iterations=10000, random_seed=42, weights_init=None):\n",
        "        self.learning_rate = learning_rate\n",
        "        self.iterations = iterations\n",
        "        self.losses = []\n",
        "        self.random_seed = random_seed\n",
        "        self.weights_init = weights_init\n",
        "        self.w = None\n",
        "        self.b = 0\n",
        "\n",
        "    def sigmoid(self, z):\n",
        "        return 1 / (1 + np.exp(-z))\n",
        "\n",
        "    def fit(self, X, y):\n",
        "        np.random.seed(self.random_seed)\n",
        "        N, d = X.shape\n",
        "        self.w = np.random.uniform(0, 1, (d, 1)) if self.weights_init is None else self.weights_init\n",
        "        self.b = 0\n",
        "        self.losses = []\n",
        "        for i in range(self.iterations):\n",
        "            z = X @ self.w + self.b\n",
        "            y_prediction = self.sigmoid(z)\n",
        "            loss = -np.mean(y * np.log(y_prediction + 1e-8) + (1 - y) * np.log(1 - y_prediction + 1e-8))\n",
        "            self.losses.append(loss)\n",
        "            dw = X.T @ (y_prediction - y) / N\n",
        "            db = np.mean(y_prediction - y)\n",
        "            self.w -= self.learning_rate * dw\n",
        "            self.b -= self.learning_rate * db\n",
        "        return self\n",
        "\n",
        "    def predict(self, X):\n",
        "        return (self.sigmoid(X @ self.w + self.b) > 0.5).astype(int)"
      ],
      "metadata": {
        "id": "3G0M_N_MyiNr"
      },
      "execution_count": 231,
      "outputs": []
    },
    {
      "cell_type": "code",
      "source": [
        "configs = [\n",
        "    {'learning_rate': 5e-3, 'iterations': 100000},\n",
        "    {'learning_rate': 1e-1, 'iterations': 80000},\n",
        "    {'learning_rate': 2e-2, 'iterations': 100000},\n",
        "]\n",
        "# I have done the hyperparameter setup here."
      ],
      "metadata": {
        "id": "5gMYdiKyyqSn"
      },
      "execution_count": 232,
      "outputs": []
    },
    {
      "cell_type": "code",
      "source": [
        "answer = []\n",
        "for idx, cfg in enumerate(configs, 1): # configs contains hyperparameters\n",
        "    model = LogitRegression(**cfg)\n",
        "    model.fit(X_train, y_train)\n",
        "    y_pred = model.predict(X_test)\n",
        "    acc = np.mean(y_pred == y_test)\n",
        "    tp = np.sum((y_test == 1) & (y_pred == 1)) # TP: Model predicts 1 and actual is 1.\n",
        "    tn = np.sum((y_test == 0) & (y_pred == 0)) # TN: Model predicts 0 and actual is 0.\n",
        "    fp = np.sum((y_test == 0) & (y_pred == 1)) # FP: Model predicts 1 but actual is 0.\n",
        "    fn = np.sum((y_test == 1) & (y_pred == 0)) # FN: Model predicts 0 but actual is 1.\n",
        "\n",
        "    precision = tp / (tp + fp) if (tp + fp) else 0\n",
        "    recall = tp / (tp + fn) if (tp + fn) else 0\n",
        "    f1 = 2 * precision * recall / (precision + recall) if (precision + recall) else 0\n",
        "    # prediction, recall and f1 will store correct positive  values, detect actual positive values and mean of both measures respectively.\n",
        "    conf_mat = np.array([[tn, fp], [fn, tp]])\n",
        "    answer.append({\n",
        "        'config': cfg,\n",
        "        'accuracy': acc,\n",
        "        'precision': precision,\n",
        "        'recall': recall,\n",
        "        'f1': f1,\n",
        "        'conf_mat': conf_mat,\n",
        "        'losses': model.losses\n",
        "    })\n",
        "\n",
        "    print(f\"\\nSetup {idx}: {cfg}\")\n",
        "    print(f\"Accuracy: {acc:.3f}\")\n",
        "    print(f\"Precision: {precision:.3f}\")\n",
        "    print(f\"Recall: {recall:.3f}\")\n",
        "    print(f\"F1: {f1:.3f}\")\n",
        "    print(\"Confusion Matrix:\\n\", conf_mat)\n",
        "# By considering the hyperparameters, LogitRegression model is evaluated."
      ],
      "metadata": {
        "colab": {
          "base_uri": "https://localhost:8080/"
        },
        "id": "4gdQw3Imy2ld",
        "outputId": "4d1ed403-4549-44d7-9e99-146e2d765b46"
      },
      "execution_count": 233,
      "outputs": [
        {
          "output_type": "stream",
          "name": "stdout",
          "text": [
            "\n",
            "Setup 1: {'learning_rate': 0.005, 'iterations': 100000}\n",
            "Accuracy: 0.923\n",
            "Precision: 0.892\n",
            "Recall: 0.971\n",
            "F1: 0.930\n",
            "Confusion Matrix:\n",
            " [[27  4]\n",
            " [ 1 33]]\n",
            "\n",
            "Setup 2: {'learning_rate': 0.1, 'iterations': 80000}\n",
            "Accuracy: 0.877\n",
            "Precision: 0.882\n",
            "Recall: 0.882\n",
            "F1: 0.882\n",
            "Confusion Matrix:\n",
            " [[27  4]\n",
            " [ 4 30]]\n",
            "\n",
            "Setup 3: {'learning_rate': 0.02, 'iterations': 100000}\n",
            "Accuracy: 0.908\n",
            "Precision: 0.889\n",
            "Recall: 0.941\n",
            "F1: 0.914\n",
            "Confusion Matrix:\n",
            " [[27  4]\n",
            " [ 2 32]]\n"
          ]
        }
      ]
    },
    {
      "cell_type": "code",
      "source": [
        "plt.figure()\n",
        "for idx, r in enumerate(answer, 1):\n",
        "    plt.plot(r['losses'], label=f'Setup {idx}: lr={r[\"config\"][\"learning_rate\"]}, iters={r[\"config\"][\"iterations\"]}')\n",
        "plt.xlabel('Iteration')\n",
        "plt.ylabel('Loss')\n",
        "plt.title('Loss vs Iteration for every Hyperparameter')\n",
        "plt.legend()\n",
        "plt.show()"
      ],
      "metadata": {
        "colab": {
          "base_uri": "https://localhost:8080/",
          "height": 472
        },
        "id": "8OYiN7BszEw2",
        "outputId": "5ad2f8d8-1582-49fd-b65c-4ee905e6e4b2"
      },
      "execution_count": 234,
      "outputs": [
        {
          "output_type": "display_data",
          "data": {
            "text/plain": [
              "<Figure size 640x480 with 1 Axes>"
            ],
            "image/png": "[encoded data removed]"
          },
          "metadata": {}
        }
      ]
    },
    {
      "cell_type": "code",
      "source": [
        "# Training\n",
        "# w, b = train_logistic_regression(X_train, y_train, lr=0.1, n_iter=1000)"
      ],
      "metadata": {
        "id": "gcs0Rxy2toi1"
      },
      "execution_count": 235,
      "outputs": []
    },
    {
      "cell_type": "code",
      "source": [
        "# Prediction\n",
        "# y_pred = predict(X_test, w, b)\n",
        "# acc = np.mean(y_pred == y_test)\n",
        "# print('Test accuracy:', acc)"
      ],
      "metadata": {
        "id": "4KCd5pX0uGuF"
      },
      "execution_count": 236,
      "outputs": []
    },
    {
      "cell_type": "code",
      "source": [],
      "metadata": {
        "id": "1KtnxfkAyfLy"
      },
      "execution_count": 236,
      "outputs": []
    },
    {
      "cell_type": "code",
      "source": [
        "# df = df.dropna()\n",
        "# df.shape"
      ],
      "metadata": {
        "id": "suuACPSCwpab"
      },
      "execution_count": 237,
      "outputs": []
    }
  ]
}